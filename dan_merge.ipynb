{
 "cells": [
  {
   "cell_type": "markdown",
   "metadata": {},
   "source": [
    "# Assignment 2 - Machine Learning\n",
    "**Project:** Project 1 - Classify Images of Road Traffic Signs\n",
    "\n",
    "**Group Name:** Dan & Ethan\n",
    "| Name               | Student Number |\n",
    "|--------------------|----------------|\n",
    "| Daniel Schellekens | s3900792       |\n",
    "| Ethan Rayner       | s3902240       |"
   ]
  },
  {
   "cell_type": "code",
   "execution_count": 1,
   "metadata": {},
   "outputs": [
    {
     "data": {
      "text/plain": [
       "[PhysicalDevice(name='/physical_device:CPU:0', device_type='CPU')]"
      ]
     },
     "execution_count": 1,
     "metadata": {},
     "output_type": "execute_result"
    }
   ],
   "source": [
    "import tensorflow as tf\n",
    "tf.config.list_physical_devices()"
   ]
  },
  {
   "cell_type": "code",
   "execution_count": 2,
   "metadata": {},
   "outputs": [
    {
     "name": "stdout",
     "output_type": "stream",
     "text": [
      "Test set: 1849 rows\n",
      "Validation set: 1850 rows\n"
     ]
    },
    {
     "data": {
      "text/html": [
       "<div>\n",
       "<style scoped>\n",
       "    .dataframe tbody tr th:only-of-type {\n",
       "        vertical-align: middle;\n",
       "    }\n",
       "\n",
       "    .dataframe tbody tr th {\n",
       "        vertical-align: top;\n",
       "    }\n",
       "\n",
       "    .dataframe thead th {\n",
       "        text-align: right;\n",
       "    }\n",
       "</style>\n",
       "<table border=\"1\" class=\"dataframe\">\n",
       "  <thead>\n",
       "    <tr style=\"text-align: right;\">\n",
       "      <th></th>\n",
       "      <th>path</th>\n",
       "      <th>shape</th>\n",
       "      <th>type</th>\n",
       "    </tr>\n",
       "  </thead>\n",
       "  <tbody>\n",
       "    <tr>\n",
       "      <th>0</th>\n",
       "      <td>images\\diamond\\rightofway\\00032_00000.png</td>\n",
       "      <td>diamond</td>\n",
       "      <td>rightofway</td>\n",
       "    </tr>\n",
       "    <tr>\n",
       "      <th>1</th>\n",
       "      <td>images\\diamond\\rightofway\\00032_00001.png</td>\n",
       "      <td>diamond</td>\n",
       "      <td>rightofway</td>\n",
       "    </tr>\n",
       "    <tr>\n",
       "      <th>2</th>\n",
       "      <td>images\\diamond\\rightofway\\00032_00002.png</td>\n",
       "      <td>diamond</td>\n",
       "      <td>rightofway</td>\n",
       "    </tr>\n",
       "    <tr>\n",
       "      <th>3</th>\n",
       "      <td>images\\diamond\\rightofway\\00037_00000.png</td>\n",
       "      <td>diamond</td>\n",
       "      <td>rightofway</td>\n",
       "    </tr>\n",
       "    <tr>\n",
       "      <th>4</th>\n",
       "      <td>images\\diamond\\rightofway\\00037_00001.png</td>\n",
       "      <td>diamond</td>\n",
       "      <td>rightofway</td>\n",
       "    </tr>\n",
       "  </tbody>\n",
       "</table>\n",
       "</div>"
      ],
      "text/plain": [
       "                                        path    shape        type\n",
       "0  images\\diamond\\rightofway\\00032_00000.png  diamond  rightofway\n",
       "1  images\\diamond\\rightofway\\00032_00001.png  diamond  rightofway\n",
       "2  images\\diamond\\rightofway\\00032_00002.png  diamond  rightofway\n",
       "3  images\\diamond\\rightofway\\00037_00000.png  diamond  rightofway\n",
       "4  images\\diamond\\rightofway\\00037_00001.png  diamond  rightofway"
      ]
     },
     "execution_count": 2,
     "metadata": {},
     "output_type": "execute_result"
    }
   ],
   "source": [
    "IMAGES_FILE = \"images.csv\"\n",
    "TEST_TRAIN_SPLIT = 0.5\n",
    "\n",
    "from models.utils import prep_data\n",
    "\n",
    "data, train_data, val_data = prep_data(IMAGES_FILE, TEST_TRAIN_SPLIT)\n",
    "data.head()"
   ]
  },
  {
   "cell_type": "code",
   "execution_count": 3,
   "metadata": {},
   "outputs": [
    {
     "name": "stdout",
     "output_type": "stream",
     "text": [
      "Found 1849 validated image filenames belonging to 5 classes.\n",
      "Found 1850 validated image filenames belonging to 5 classes.\n"
     ]
    }
   ],
   "source": [
    "CLASS_COLUMN = \"shape\" \n",
    "IMAGE_SIZE = 28\n",
    "BATCH_SIZE = 32\n",
    "\n",
    "from models.utils import create_generator\n",
    "\n",
    "train_generator = create_generator(train_data, CLASS_COLUMN, IMAGE_SIZE, BATCH_SIZE)\n",
    "val_generator = create_generator(val_data, CLASS_COLUMN, IMAGE_SIZE, BATCH_SIZE)"
   ]
  },
  {
   "cell_type": "code",
   "execution_count": 4,
   "metadata": {},
   "outputs": [
    {
     "data": {
      "image/png": "[encoded data removed]",
      "text/plain": [
       "<Figure size 720x360 with 2 Axes>"
      ]
     },
     "metadata": {
      "needs_background": "light"
     },
     "output_type": "display_data"
    }
   ],
   "source": [
    "EPOCHS = 30\n",
    "\n",
    "import models.vgg as vgg\n",
    "from models.utils import history_graph\n",
    "\n",
    "vgg_model, history = vgg.fit_model(data, CLASS_COLUMN, train_generator, val_generator, IMAGE_SIZE, EPOCHS)\n",
    "history_graph(history)"
   ]
  }
 ],
 "metadata": {
  "interpreter": {
   "hash": "81794d4967e6c3204c66dcd87b604927b115b27c00565d3d43f05ba2f3a2cb0d"
  },
  "kernelspec": {
   "display_name": "Python 3.9.5 64-bit",
   "language": "python",
   "name": "python3"
  },
  "language_info": {
   "codemirror_mode": {
    "name": "ipython",
    "version": 3
   },
   "file_extension": ".py",
   "mimetype": "text/x-python",
   "name": "python",
   "nbconvert_exporter": "python",
   "pygments_lexer": "ipython3",
   "version": "3.9.5"
  },
  "orig_nbformat": 4
 },
 "nbformat": 4,
 "nbformat_minor": 2
}
