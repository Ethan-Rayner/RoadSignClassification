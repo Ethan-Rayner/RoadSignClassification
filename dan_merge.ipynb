{
 "cells": [
  {
   "cell_type": "markdown",
   "metadata": {},
   "source": [
    "# Assignment 2 - Machine Learning\n",
    "**Project:** Project 1 - Classify Images of Road Traffic Signs\n",
    "\n",
    "**Group Name:** Dan & Ethan\n",
    "| Name               | Student Number |\n",
    "|--------------------|----------------|\n",
    "| Daniel Schellekens | s3900792       |\n",
    "| Ethan Rayner       | s3902240       |"
   ]
  },
  {
   "cell_type": "code",
   "execution_count": 1,
   "metadata": {},
   "outputs": [
    {
     "name": "stdout",
     "output_type": "stream",
     "text": [
      "Test set: 1849 rows\n",
      "Validation set: 1850 rows\n"
     ]
    },
    {
     "data": {
      "text/html": [
       "<div>\n",
       "<style scoped>\n",
       "    .dataframe tbody tr th:only-of-type {\n",
       "        vertical-align: middle;\n",
       "    }\n",
       "\n",
       "    .dataframe tbody tr th {\n",
       "        vertical-align: top;\n",
       "    }\n",
       "\n",
       "    .dataframe thead th {\n",
       "        text-align: right;\n",
       "    }\n",
       "</style>\n",
       "<table border=\"1\" class=\"dataframe\">\n",
       "  <thead>\n",
       "    <tr style=\"text-align: right;\">\n",
       "      <th></th>\n",
       "      <th>path</th>\n",
       "      <th>shape</th>\n",
       "      <th>type</th>\n",
       "    </tr>\n",
       "  </thead>\n",
       "  <tbody>\n",
       "    <tr>\n",
       "      <th>0</th>\n",
       "      <td>images\\diamond\\rightofway\\00032_00000.png</td>\n",
       "      <td>diamond</td>\n",
       "      <td>rightofway</td>\n",
       "    </tr>\n",
       "    <tr>\n",
       "      <th>1</th>\n",
       "      <td>images\\diamond\\rightofway\\00032_00001.png</td>\n",
       "      <td>diamond</td>\n",
       "      <td>rightofway</td>\n",
       "    </tr>\n",
       "    <tr>\n",
       "      <th>2</th>\n",
       "      <td>images\\diamond\\rightofway\\00032_00002.png</td>\n",
       "      <td>diamond</td>\n",
       "      <td>rightofway</td>\n",
       "    </tr>\n",
       "    <tr>\n",
       "      <th>3</th>\n",
       "      <td>images\\diamond\\rightofway\\00037_00000.png</td>\n",
       "      <td>diamond</td>\n",
       "      <td>rightofway</td>\n",
       "    </tr>\n",
       "    <tr>\n",
       "      <th>4</th>\n",
       "      <td>images\\diamond\\rightofway\\00037_00001.png</td>\n",
       "      <td>diamond</td>\n",
       "      <td>rightofway</td>\n",
       "    </tr>\n",
       "  </tbody>\n",
       "</table>\n",
       "</div>"
      ],
      "text/plain": [
       "                                        path    shape        type\n",
       "0  images\\diamond\\rightofway\\00032_00000.png  diamond  rightofway\n",
       "1  images\\diamond\\rightofway\\00032_00001.png  diamond  rightofway\n",
       "2  images\\diamond\\rightofway\\00032_00002.png  diamond  rightofway\n",
       "3  images\\diamond\\rightofway\\00037_00000.png  diamond  rightofway\n",
       "4  images\\diamond\\rightofway\\00037_00001.png  diamond  rightofway"
      ]
     },
     "execution_count": 1,
     "metadata": {},
     "output_type": "execute_result"
    }
   ],
   "source": [
    "TEST_TRAIN_SPLIT = 0.5\n",
    "\n",
    "import pandas as pd\n",
    "from sklearn.model_selection import train_test_split\n",
    "\n",
    "data = pd.read_csv(\"images.csv\")\n",
    "\n",
    "train_data, val_data = train_test_split(\n",
    "    data, \n",
    "    test_size = TEST_TRAIN_SPLIT, \n",
    "    random_state = 0)\n",
    "\n",
    "print(\n",
    "    \"Test set: {} rows\\nValidation set: {} rows\"\n",
    "    .format(train_data.shape[0], val_data.shape[0]))\n",
    "\n",
    "data.head()"
   ]
  },
  {
   "cell_type": "code",
   "execution_count": 2,
   "metadata": {},
   "outputs": [
    {
     "name": "stdout",
     "output_type": "stream",
     "text": [
      "Found 1849 validated image filenames belonging to 16 classes.\n",
      "Found 1850 validated image filenames belonging to 16 classes.\n"
     ]
    }
   ],
   "source": [
    "BATCH_SIZE = 32\n",
    "PATH_COLUMN = \"path\"\n",
    "CLASS_COLUMN = \"type\"\n",
    "NUM_OF_CLASSES = len(pd.unique(data[CLASS_COLUMN]))\n",
    "\n",
    "# This defaults to 256x256 probably to account for super large images,\n",
    "# but since our images are only 28x28 there's probably no point upscaling them, \n",
    "# right?\n",
    "IMAGE_SIZE = 28 \n",
    "\n",
    "from tensorflow.keras.preprocessing.image import ImageDataGenerator\n",
    "\n",
    "train_datagen = ImageDataGenerator(\n",
    "    rotation_range = 15, \n",
    "    width_shift_range = 0.2,\n",
    "    height_shift_range = 0.2, \n",
    "    brightness_range = [0.5, 1.5])\n",
    "    \n",
    "val_datagen = ImageDataGenerator(\n",
    "    rotation_range = 15, \n",
    "    width_shift_range = 0.2,\n",
    "    height_shift_range = 0.2, \n",
    "    brightness_range = [0.5, 1.5])\n",
    "\n",
    "train_generator = train_datagen.flow_from_dataframe(\n",
    "    dataframe = train_data,\n",
    "    directory = \"./\",\n",
    "    x_col = PATH_COLUMN,\n",
    "    y_col = CLASS_COLUMN,\n",
    "    target_size = (IMAGE_SIZE, IMAGE_SIZE),\n",
    "    batch_size = BATCH_SIZE,\n",
    "    class_mode = \"categorical\") # categorical mode only works with one-hot encoding?\n",
    "\n",
    "val_generator = val_datagen.flow_from_dataframe(\n",
    "    dataframe = val_data,\n",
    "    directory = \"./\",\n",
    "    x_col = PATH_COLUMN,\n",
    "    y_col = CLASS_COLUMN,\n",
    "    target_size = (IMAGE_SIZE, IMAGE_SIZE),\n",
    "    batch_size = BATCH_SIZE,\n",
    "    class_mode = \"categorical\") # categorical mode only works with one-hot encoding?"
   ]
  },
  {
   "cell_type": "code",
   "execution_count": 3,
   "metadata": {},
   "outputs": [],
   "source": [
    "import matplotlib.pyplot as plt\n",
    "\n",
    "def plot_learning_curve(\n",
    "    train_loss, \n",
    "    val_loss, \n",
    "    train_metric, \n",
    "    val_metric, \n",
    "    metric_name = \"Accuracy\"):\n",
    "\n",
    "    plt.figure(figsize = (10, 5))\n",
    "    \n",
    "    plt.subplot(1, 2, 1)\n",
    "    plt.plot(train_loss, \"r--\")\n",
    "    plt.plot(val_loss, \"b--\")\n",
    "    plt.xlabel(\"epochs\")\n",
    "    plt.ylabel(\"Loss\")\n",
    "    plt.legend([\"train\", \"val\"], loc = \"upper left\")\n",
    "\n",
    "    plt.subplot(1, 2, 2)\n",
    "    plt.plot(train_metric, \"r--\")\n",
    "    plt.plot(val_metric, \"b--\")\n",
    "    plt.xlabel(\"epochs\")\n",
    "    plt.ylabel(metric_name)\n",
    "    plt.legend([\"train\", \"val\"], loc = \"upper left\")\n",
    "\n",
    "    plt.show()"
   ]
  },
  {
   "cell_type": "code",
   "execution_count": 4,
   "metadata": {},
   "outputs": [],
   "source": [
    "import tensorflow as tf\n",
    "\n",
    "model_VGG_3x3 = tf.keras.Sequential([\n",
    "    # VGG block 1\n",
    "    tf.keras.layers.Conv2D(\n",
    "        IMAGE_SIZE, \n",
    "        (3, 3), \n",
    "        activation = \"relu\", \n",
    "        padding = \"same\", \n",
    "\n",
    "        # Is this 3 for RGB? Because our images are only B+W...\n",
    "        input_shape = (IMAGE_SIZE, IMAGE_SIZE, 3)),\n",
    "    \n",
    "    tf.keras.layers.Conv2D(\n",
    "        IMAGE_SIZE, \n",
    "        (3, 3), \n",
    "        activation = \"relu\", \n",
    "        padding = \"same\"),\n",
    "    tf.keras.layers.MaxPooling2D((2, 2)),\n",
    "    \n",
    "    # VGG block 2\n",
    "    tf.keras.layers.Conv2D(\n",
    "        IMAGE_SIZE * 2, \n",
    "        (3, 3), \n",
    "        activation = \"relu\", \n",
    "        padding = \"same\"),\n",
    "    tf.keras.layers.Conv2D(\n",
    "        IMAGE_SIZE * 2, \n",
    "        (3, 3), \n",
    "        activation = \"relu\", \n",
    "        padding = \"same\"),\n",
    "    tf.keras.layers.MaxPooling2D((2, 2)),\n",
    "    \n",
    "    # VGG block 3\n",
    "    tf.keras.layers.Conv2D(\n",
    "        IMAGE_SIZE * 4, \n",
    "        (3, 3), \n",
    "        activation = \"relu\", \n",
    "        padding = \"same\"),\n",
    "    tf.keras.layers.Conv2D(\n",
    "        IMAGE_SIZE * 4, \n",
    "        (3, 3), \n",
    "        activation = \"relu\", \n",
    "        padding = \"same\"),\n",
    "    tf.keras.layers.MaxPooling2D((2, 2)),\n",
    "    \n",
    "    tf.keras.layers.Flatten(),\n",
    "    tf.keras.layers.Dense(IMAGE_SIZE * 4, activation = \"relu\"),\n",
    "    tf.keras.layers.Dense(NUM_OF_CLASSES),\n",
    "])"
   ]
  },
  {
   "cell_type": "code",
   "execution_count": 5,
   "metadata": {},
   "outputs": [],
   "source": [
    "model_VGG_3x3.compile(\n",
    "    optimizer = \"adam\",\n",
    "    loss = tf.keras.losses.CategoricalCrossentropy(from_logits = True),\n",
    "    metrics = [\"categorical_accuracy\"])"
   ]
  },
  {
   "cell_type": "code",
   "execution_count": 6,
   "metadata": {},
   "outputs": [],
   "source": [
    "# After about 20 epochs things seem to stabilize\n",
    "EPOCHS = 30\n",
    "\n",
    "history_VGG_3x3 = model_VGG_3x3.fit(\n",
    "    train_generator,\n",
    "    validation_data = val_generator, \n",
    "    epochs = EPOCHS, \n",
    "    verbose = 0)"
   ]
  },
  {
   "cell_type": "code",
   "execution_count": 7,
   "metadata": {},
   "outputs": [
    {
     "data": {
      "image/png": "[encoded data removed]",
      "text/plain": [
       "<Figure size 720x360 with 2 Axes>"
      ]
     },
     "metadata": {
      "needs_background": "light"
     },
     "output_type": "display_data"
    }
   ],
   "source": [
    "plot_learning_curve(\n",
    "    history_VGG_3x3.history[\"loss\"], \n",
    "    history_VGG_3x3.history[\"val_loss\"], \n",
    "    history_VGG_3x3.history[\"categorical_accuracy\"], \n",
    "    history_VGG_3x3.history[\"val_categorical_accuracy\"], \n",
    "    metric_name = \"Accuracy\")"
   ]
  }
 ],
 "metadata": {
  "interpreter": {
   "hash": "81794d4967e6c3204c66dcd87b604927b115b27c00565d3d43f05ba2f3a2cb0d"
  },
  "kernelspec": {
   "display_name": "Python 3.9.5 64-bit",
   "language": "python",
   "name": "python3"
  },
  "language_info": {
   "codemirror_mode": {
    "name": "ipython",
    "version": 3
   },
   "file_extension": ".py",
   "mimetype": "text/x-python",
   "name": "python",
   "nbconvert_exporter": "python",
   "pygments_lexer": "ipython3",
   "version": "3.9.5"
  },
  "orig_nbformat": 4
 },
 "nbformat": 4,
 "nbformat_minor": 2
}
