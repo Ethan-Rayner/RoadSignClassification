{
 "cells": [
  {
   "cell_type": "markdown",
   "metadata": {},
   "source": [
    "# Assignment 2 - Machine Learning\n",
    "**Project:** Project 1 - Classify Images of Road Traffic Signs\n",
    "\n",
    "**Group Name:** Dan & Ethan\n",
    "| Name               | Student Number |\n",
    "|--------------------|----------------|\n",
    "| Daniel Schellekens | s3900792       |\n",
    "| Ethan Rayner       | s3902240       |"
   ]
  },
  {
   "cell_type": "markdown",
   "metadata": {},
   "source": [
    "## Holdout Validation\n",
    "In this exercise, holdout validation will be used. A random 20% split of the data is test aside to perform validation against."
   ]
  },
  {
   "cell_type": "code",
   "execution_count": null,
   "metadata": {},
   "outputs": [],
   "source": [
    "IMAGES_FILE = \"images.csv\"\n",
    "TEST_TRAIN_SPLIT = 0.2\n",
    "\n",
    "from models.utils import prep_data\n",
    "\n",
    "data, train_data, val_data = prep_data(IMAGES_FILE, TEST_TRAIN_SPLIT)\n",
    "data.head()"
   ]
  },
  {
   "cell_type": "markdown",
   "metadata": {},
   "source": [
    "## Exploratory Data Analysis\n",
    "The following graphs demonstrate that both classes appear correctly in the dataset. It also shows there is major imbalance in the representation for each class. There are very few images of stop signs, which not only has an impact on the type class, but results in there being very few signs of the \"hex\" shape."
   ]
  },
  {
   "cell_type": "code",
   "execution_count": null,
   "metadata": {},
   "outputs": [],
   "source": [
    "from models.eda import classes_histogram\n",
    "\n",
    "classes_histogram(train_data, val_data, \"shape\")\n",
    "classes_histogram(train_data, val_data, \"type\")"
   ]
  },
  {
   "cell_type": "markdown",
   "metadata": {},
   "source": [
    "## Performance Metric\n",
    "Due to the large class imbalance (as seen above), accuracy does not make for a good performance metric, as the model could completely ignore stop signs and still perform quite well. A good alternative for accuracy is the F1-Score. F1-Scores are calculated for each class independently, using formulas based on the number of true positives, false positives and false negatives, the overall F1-Score is the mean of the F1-Scores for each class. This means each class has equal weighting, so a model that does poorly on stop signs will incur the same penalty as one that does poorly on warning signs. "
   ]
  },
  {
   "cell_type": "markdown",
   "metadata": {},
   "source": [
    "## Training the Model\n",
    "ImageDataGenerators are used to generate training and validation images that aren't always identical to the originals in the `images/` directory. A series of random translations, scaling, rotations and brightness shifts are applied to the images first. This ensures that as the model trains during the numerous epochs, it is seeing somewhat fresh data not repeated information that it could overfit to."
   ]
  },
  {
   "cell_type": "markdown",
   "metadata": {},
   "source": [
    "### Model 2 - VGG\n"
   ]
  },
  {
   "cell_type": "code",
   "execution_count": null,
   "metadata": {},
   "outputs": [],
   "source": [
    "CLASS_COLUMN = \"type\"\n",
    "IMAGE_SIZE = 28\n",
    "BATCH_SIZE = 32\n",
    "EPOCHS = 100\n",
    "\n",
    "import models.vgg as vgg\n",
    "from models.utils import history_graph\n",
    "from models.utils import create_generator\n",
    "\n",
    "vgg_train_images = create_generator(train_data, CLASS_COLUMN, IMAGE_SIZE, BATCH_SIZE)\n",
    "vgg_val_images = create_generator(val_data, CLASS_COLUMN, IMAGE_SIZE, BATCH_SIZE)\n",
    "vgg_model, vgg_history = vgg.fit_model(data, CLASS_COLUMN, vgg_train_images, vgg_val_images, IMAGE_SIZE, EPOCHS)\n",
    "history_graph(vgg_history)"
   ]
  },
  {
   "cell_type": "markdown",
   "metadata": {},
   "source": [
    "## Independent Evaluation\n",
    "The final results are determined from an independent dataset of 80 images (5 of each class) sourced from Street Imagery made available by KartaView under a Creative Commons Attribution-ShareAlike 4.0 International ([https://kartaview.org/terms](https://kartaview.org/terms)). These images have been pre-processed to match the 28x28 dimensions and greyscale colors of the original dataset. This tests the performance of the model on unseen \"real-world\" data."
   ]
  },
  {
   "cell_type": "code",
   "execution_count": null,
   "metadata": {},
   "outputs": [],
   "source": [
    "NUM_TO_VISUALIZE = 20\n",
    "NUM_TO_SCORE = 500\n",
    "IMAGES_FILE = \"test-images.csv\"\n",
    "\n",
    "from models.test import create_test_generator\n",
    "from models.test import show_visual_results\n",
    "from models.test import print_f1_scores\n",
    "\n",
    "vgg_test_images = create_test_generator(IMAGES_FILE, CLASS_COLUMN, IMAGE_SIZE, 1)\n",
    "show_visual_results(vgg_model, vgg_test_images, NUM_TO_VISUALIZE)\n",
    "print_f1_scores(vgg_model, vgg_test_images, NUM_TO_SCORE)"
   ]
  },
  {
   "cell_type": "markdown",
   "metadata": {},
   "source": [
    "## References\n",
    "Tuychiev, B. (2021, Jun 9). Comprehensive Guide to Multiclass Classification Metrics. *Towards Data Science.* https://towardsdatascience.com/comprehensive-guide-on-multiclass-classification-metrics-af94cfb83fbd"
   ]
  }
 ],
 "metadata": {
  "interpreter": {
   "hash": "68d9e517cea5a8ffbcc67cb9ed7ae0f3acde202627d7249c4578fcfd1919f8af"
  },
  "kernelspec": {
   "display_name": "Python 3.9.12 ('tf_gpu')",
   "language": "python",
   "name": "python3"
  },
  "language_info": {
   "codemirror_mode": {
    "name": "ipython",
    "version": 3
   },
   "file_extension": ".py",
   "mimetype": "text/x-python",
   "name": "python",
   "nbconvert_exporter": "python",
   "pygments_lexer": "ipython3",
   "version": "3.9.12"
  },
  "orig_nbformat": 4
 },
 "nbformat": 4,
 "nbformat_minor": 2
}
