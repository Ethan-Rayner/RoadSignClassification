{
 "cells": [
  {
   "cell_type": "markdown",
   "metadata": {},
   "source": [
    "# Assignment 2 - Machine Learning"
   ]
  },
  {
   "cell_type": "code",
   "execution_count": null,
   "metadata": {},
   "outputs": [],
   "source": [
    "IMAGES_FILE = \"images.csv\"\n",
    "TEST_TRAIN_SPLIT = 0.2\n",
    "\n",
    "from models.utils import prep_data\n",
    "data, train_data, val_data = prep_data(IMAGES_FILE, TEST_TRAIN_SPLIT)\n",
    "data.head()"
   ]
  },
  {
   "cell_type": "code",
   "execution_count": null,
   "metadata": {},
   "outputs": [],
   "source": [
    "from models.eda import classes_histogram\n",
    "classes_histogram(train_data, val_data, [\"shape\", \"type\"])"
   ]
  },
  {
   "cell_type": "markdown",
   "metadata": {},
   "source": [
    "## Model training - Shape"
   ]
  },
  {
   "cell_type": "code",
   "execution_count": null,
   "metadata": {},
   "outputs": [],
   "source": [
    "BATCH_SIZE = 32\n",
    "IMAGE_SIZE = 28\n",
    "TEST_SIZE = 128\n",
    "\n",
    "from models.utils import create_generator\n",
    "from models.utils import history_graph\n",
    "from models.test import score_f1\n",
    "import models.MLP as mlp\n",
    "import models.alexnet as alex\n",
    "import models.vggnet as vgg\n",
    "\n",
    "train_shape_images = create_generator(train_data, \"shape\", IMAGE_SIZE, BATCH_SIZE)\n",
    "val_shape_images = create_generator(val_data, \"shape\", IMAGE_SIZE, BATCH_SIZE)"
   ]
  },
  {
   "cell_type": "markdown",
   "metadata": {},
   "source": [
    "### Model 1 - Multi-layer Perceptron"
   ]
  },
  {
   "cell_type": "code",
   "execution_count": null,
   "metadata": {},
   "outputs": [],
   "source": [
    "mlp_shape_model, mlp_shape_history = mlp.fit_model(\n",
    "    data, \n",
    "    \"shape\", \n",
    "    train_shape_images, \n",
    "    val_shape_images, \n",
    "    IMAGE_SIZE, \n",
    "    epochs = 100)\n",
    "\n",
    "history_graph(mlp_shape_history)\n",
    "score_f1(mlp_shape_model, val_shape_images, TEST_SIZE)"
   ]
  },
  {
   "cell_type": "markdown",
   "metadata": {},
   "source": [
    "### Model 2 - AlexNet"
   ]
  },
  {
   "cell_type": "code",
   "execution_count": null,
   "metadata": {},
   "outputs": [],
   "source": [
    "alex_shape_model, alex_shape_history = alex.fit_model(\n",
    "    data, \n",
    "    \"shape\", \n",
    "    train_shape_images, \n",
    "    val_shape_images, \n",
    "    IMAGE_SIZE, \n",
    "    epochs = 100)\n",
    "\n",
    "history_graph(alex_shape_history)\n",
    "score_f1(alex_shape_model, val_shape_images, TEST_SIZE)"
   ]
  },
  {
   "cell_type": "markdown",
   "metadata": {},
   "source": [
    "### Model 3 - Modified VGGNet"
   ]
  },
  {
   "cell_type": "code",
   "execution_count": null,
   "metadata": {},
   "outputs": [],
   "source": [
    "vgg_shape_model, vgg_shape_history = vgg.fit_model(\n",
    "    data, \n",
    "    \"shape\", \n",
    "    train_shape_images, \n",
    "    val_shape_images, \n",
    "    IMAGE_SIZE, \n",
    "    epochs = 100)\n",
    "\n",
    "history_graph(vgg_shape_history)\n",
    "score_f1(vgg_shape_model, val_shape_images, TEST_SIZE)"
   ]
  },
  {
   "cell_type": "markdown",
   "metadata": {},
   "source": [
    "## Model Training - Type"
   ]
  },
  {
   "cell_type": "code",
   "execution_count": null,
   "metadata": {},
   "outputs": [],
   "source": [
    "train_type_images = create_generator(train_data, \"type\", IMAGE_SIZE, BATCH_SIZE)\n",
    "val_type_images = create_generator(val_data, \"type\", IMAGE_SIZE, BATCH_SIZE)"
   ]
  },
  {
   "cell_type": "markdown",
   "metadata": {},
   "source": [
    "### Model 1 - Multi-layer Perceptron"
   ]
  },
  {
   "cell_type": "code",
   "execution_count": null,
   "metadata": {},
   "outputs": [],
   "source": [
    "mlp_type_model, mlp_type_history = mlp.fit_model(\n",
    "    data, \n",
    "    \"type\", \n",
    "    train_type_images, \n",
    "    val_type_images, \n",
    "    IMAGE_SIZE, \n",
    "    epochs = 100)\n",
    "    \n",
    "history_graph(mlp_type_history)\n",
    "score_f1(mlp_type_model, val_type_images, TEST_SIZE)"
   ]
  },
  {
   "cell_type": "markdown",
   "metadata": {},
   "source": [
    "### Model 2 - AlexNet"
   ]
  },
  {
   "cell_type": "code",
   "execution_count": null,
   "metadata": {},
   "outputs": [],
   "source": [
    "alex_type_model, alex_type_history = alex.fit_model(\n",
    "    data, \n",
    "    \"type\", \n",
    "    train_type_images, \n",
    "    val_type_images, \n",
    "    IMAGE_SIZE, \n",
    "    epochs = 100)\n",
    "\n",
    "history_graph(alex_type_history)\n",
    "score_f1(alex_type_model, val_type_images, TEST_SIZE)"
   ]
  },
  {
   "cell_type": "markdown",
   "metadata": {},
   "source": [
    "### Model 3 - Modified VGGNet"
   ]
  },
  {
   "cell_type": "code",
   "execution_count": null,
   "metadata": {},
   "outputs": [],
   "source": [
    "vgg_type_model, vgg_type_history = vgg.fit_model(\n",
    "    data, \n",
    "    \"type\", \n",
    "    train_type_images, \n",
    "    val_type_images, \n",
    "    IMAGE_SIZE, \n",
    "    epochs = 100)\n",
    "\n",
    "history_graph(vgg_type_history)\n",
    "score_f1(vgg_type_model, val_type_images, TEST_SIZE)"
   ]
  },
  {
   "cell_type": "markdown",
   "metadata": {},
   "source": [
    "## Independent Evaluation - Shape"
   ]
  },
  {
   "cell_type": "code",
   "execution_count": null,
   "metadata": {},
   "outputs": [],
   "source": [
    "NUM_TO_VISUALIZE = 20\n",
    "NUM_TO_F1_SCORE = 100\n",
    "IMAGES_FILE = \"test-images.csv\"\n",
    "\n",
    "from models.test import create_test_generator\n",
    "from models.test import show_visual_results\n",
    "from models.test import score_f1\n",
    "\n",
    "test_images_shape = create_test_generator(IMAGES_FILE, \"shape\", IMAGE_SIZE, 1)"
   ]
  },
  {
   "cell_type": "markdown",
   "metadata": {},
   "source": [
    "### Model 1 - Multi-layer Perceptron"
   ]
  },
  {
   "cell_type": "code",
   "execution_count": null,
   "metadata": {},
   "outputs": [],
   "source": [
    "show_visual_results(mlp_shape_model, test_images_shape, NUM_TO_VISUALIZE)\n",
    "score_f1(mlp_shape_model, test_images_shape, TEST_SIZE)"
   ]
  },
  {
   "cell_type": "markdown",
   "metadata": {},
   "source": [
    "### Model 2 - AlexNet"
   ]
  },
  {
   "cell_type": "code",
   "execution_count": null,
   "metadata": {},
   "outputs": [],
   "source": [
    "show_visual_results(alex_shape_model, test_images_shape, NUM_TO_VISUALIZE)\n",
    "score_f1(alex_shape_model, test_images_shape, TEST_SIZE)"
   ]
  },
  {
   "cell_type": "markdown",
   "metadata": {},
   "source": [
    "### Model 3 - Modified VGGNet"
   ]
  },
  {
   "cell_type": "code",
   "execution_count": null,
   "metadata": {},
   "outputs": [],
   "source": [
    "show_visual_results(vgg_shape_model, test_images_shape, NUM_TO_VISUALIZE)\n",
    "score_f1(vgg_shape_model, test_images_shape, TEST_SIZE)"
   ]
  },
  {
   "cell_type": "markdown",
   "metadata": {},
   "source": [
    "## Independant Evaluation - Type"
   ]
  },
  {
   "cell_type": "code",
   "execution_count": null,
   "metadata": {},
   "outputs": [],
   "source": [
    "test_images_type = create_test_generator(IMAGES_FILE, \"type\", IMAGE_SIZE, 1)"
   ]
  },
  {
   "cell_type": "markdown",
   "metadata": {},
   "source": [
    "### Model 1 - Multi-layer Perceptron"
   ]
  },
  {
   "cell_type": "code",
   "execution_count": null,
   "metadata": {},
   "outputs": [],
   "source": [
    "show_visual_results(mlp_type_model, test_images_type, NUM_TO_VISUALIZE)\n",
    "score_f1(mlp_type_model, test_images_type, TEST_SIZE)"
   ]
  },
  {
   "cell_type": "markdown",
   "metadata": {},
   "source": [
    "### Model 2 - AlexNet"
   ]
  },
  {
   "cell_type": "code",
   "execution_count": null,
   "metadata": {},
   "outputs": [],
   "source": [
    "show_visual_results(alex_type_model, test_images_type, NUM_TO_VISUALIZE)\n",
    "score_f1(alex_type_model, test_images_type, TEST_SIZE)"
   ]
  },
  {
   "cell_type": "markdown",
   "metadata": {},
   "source": [
    "### Model 3 - Modified VGGNet"
   ]
  },
  {
   "cell_type": "code",
   "execution_count": null,
   "metadata": {},
   "outputs": [],
   "source": [
    "show_visual_results(vgg_type_model, test_images_type, NUM_TO_VISUALIZE)\n",
    "score_f1(vgg_type_model, test_images_type, TEST_SIZE)"
   ]
  }
 ],
 "metadata": {
  "interpreter": {
   "hash": "6e475f71985c93f81ba61d60bc7d9d46f813f2d65b8296f67530ff2227a51fde"
  },
  "kernelspec": {
   "display_name": "Python 3.8.8 ('base')",
   "language": "python",
   "name": "python3"
  },
  "language_info": {
   "codemirror_mode": {
    "name": "ipython",
    "version": 3
   },
   "file_extension": ".py",
   "mimetype": "text/x-python",
   "name": "python",
   "nbconvert_exporter": "python",
   "pygments_lexer": "ipython3",
   "version": "3.8.8"
  },
  "orig_nbformat": 4
 },
 "nbformat": 4,
 "nbformat_minor": 2
}
